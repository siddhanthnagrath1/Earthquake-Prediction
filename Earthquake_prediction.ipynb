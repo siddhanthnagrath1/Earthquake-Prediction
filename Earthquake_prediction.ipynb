{
  "nbformat": 4,
  "nbformat_minor": 0,
  "metadata": {
    "colab": {
      "provenance": [],
      "authorship_tag": "ABX9TyOn1kSDLsMeGD3BgQY+oN0N",
      "include_colab_link": true
    },
    "kernelspec": {
      "name": "python3",
      "display_name": "Python 3"
    },
    "language_info": {
      "name": "python"
    }
  },
  "cells": [
    {
      "cell_type": "markdown",
      "metadata": {
        "id": "view-in-github",
        "colab_type": "text"
      },
      "source": [
        "<a href=\"https://colab.research.google.com/github/siddhanthnagrath1/Earthquake-Prediction/blob/main/Earthquake_prediction.ipynb\" target=\"_parent\"><img src=\"https://colab.research.google.com/assets/colab-badge.svg\" alt=\"Open In Colab\"/></a>"
      ]
    },
    {
      "cell_type": "code",
      "execution_count": 1,
      "metadata": {
        "id": "PHIsYHnyq_5G"
      },
      "outputs": [],
      "source": [
        "import numpy as np\n",
        "import tensorflow as tf\n",
        "import pandas as pd\n",
        "import time\n",
        "from datetime import datetime"
      ]
    },
    {
      "cell_type": "code",
      "source": [
        "df1=pd.read_csv(\"database (1).csv\")"
      ],
      "metadata": {
        "id": "_zbAWokorMd-"
      },
      "execution_count": 2,
      "outputs": []
    },
    {
      "cell_type": "code",
      "source": [
        "from datetime import datetime\n",
        "\n",
        "epoch = datetime(1970, 1, 1)\n",
        "\n",
        "def mapdateTotime(x):\n",
        "    try:\n",
        "        dt = datetime.strptime(x, \"%m/%d/%Y\")\n",
        "    except ValueError:\n",
        "        dt = datetime.strptime(x, \"%Y-%m-%dT%H:%M:%S.%fZ\")\n",
        "    diff = dt - epoch\n",
        "    return diff.total_seconds()\n",
        "\n",
        "df1['Date'] = df1['Date'].apply(mapdateTotime)\n"
      ],
      "metadata": {
        "id": "Cz-dgEZ_rxwE"
      },
      "execution_count": 5,
      "outputs": []
    },
    {
      "cell_type": "code",
      "source": [
        "\n",
        "col1 = df1[['Date', 'Latitude', 'Longitude', 'Depth']]\n",
        "col2 = df1['Magnitude']\n",
        "\n",
        "\n",
        "InputX1 = col1.values\n",
        "InputY1 = col2.values\n",
        "print(InputX1)\n"
      ],
      "metadata": {
        "colab": {
          "base_uri": "https://localhost:8080/"
        },
        "id": "XR8C94O9sijh",
        "outputId": "3e1c9151-2745-4c02-fa77-0c81dc5cae98"
      },
      "execution_count": 7,
      "outputs": [
        {
          "output_type": "stream",
          "name": "stdout",
          "text": [
            "[[-1.5768000e+08  1.9246000e+01  1.4561600e+02  1.3160000e+02]\n",
            " [-1.5750720e+08  1.8630000e+00  1.2735200e+02  8.0000000e+01]\n",
            " [-1.5742080e+08 -2.0579000e+01 -1.7397200e+02  2.0000000e+01]\n",
            " ...\n",
            " [ 1.4828832e+09  3.6917900e+01  1.4042620e+02  1.0000000e+01]\n",
            " [ 1.4829696e+09 -9.0283000e+00  1.1866390e+02  7.9000000e+01]\n",
            " [ 1.4830560e+09  3.7397300e+01  1.4141030e+02  1.1940000e+01]]\n"
          ]
        }
      ]
    },
    {
      "cell_type": "code",
      "source": [
        "X1_min = np.amin(InputX1,0)\n",
        "X1_max = np.amax(InputX1,0)\n",
        "print(\"Mininum values:\",X1_min)\n",
        "print(\"Maximum values:\",X1_max)\n",
        "Y1_min = np.amin(InputY1)\n",
        "Y1_max = np.amax(InputY1)\n",
        "InputX1_norm = (InputX1-X1_min)/(X1_max-X1_min)\n",
        "InputY1_norm = InputY1  #No normalization in output\n",
        "\n",
        "#Reshape\n",
        "Xfeatures = 3 #Number of input features\n",
        "Yfeatures = 1 #Number of input features\n",
        "samples = 23000 # Number of samples\n",
        "\n",
        "InputX1_reshape = np.resize(InputX1_norm,(samples,Xfeatures))\n",
        "InputY1_reshape = np.resize(InputY1_norm,(samples,Yfeatures))"
      ],
      "metadata": {
        "colab": {
          "base_uri": "https://localhost:8080/"
        },
        "id": "btm6y9MzsqpU",
        "outputId": "5479016b-4cf5-43d9-8807-e97382f71522"
      },
      "execution_count": 8,
      "outputs": [
        {
          "output_type": "stream",
          "name": "stdout",
          "text": [
            "Mininum values: [-1.57680e+08 -7.70800e+01 -1.79997e+02 -1.10000e+00]\n",
            "Maximum values: [1.483056e+09 8.600500e+01 1.799980e+02 7.000000e+02]\n"
          ]
        }
      ]
    },
    {
      "cell_type": "code",
      "source": [
        "#Training data\n",
        "batch_size = 2000\n",
        "InputX1train = InputX1_reshape[0:batch_size,:]\n",
        "InputY1train = InputY1_reshape[0:batch_size,:]\n",
        "#Validation data\n",
        "v_size = 2500\n",
        "InputX1v = InputX1_reshape[batch_size:batch_size+v_size,:]\n",
        "InputY1v = InputY1_reshape[batch_size:batch_size+v_size,:]"
      ],
      "metadata": {
        "id": "GbE8kpicsulc"
      },
      "execution_count": 9,
      "outputs": []
    },
    {
      "cell_type": "code",
      "source": [
        "learning_rate = 0.001\n",
        "training_iterations = 1000\n",
        "display_iterations = 200"
      ],
      "metadata": {
        "id": "NdydrDZ4sxWJ"
      },
      "execution_count": 10,
      "outputs": []
    },
    {
      "cell_type": "code",
      "source": [
        "import tensorflow as tf\n",
        "\n",
        "# Assuming Xfeatures is defined somewhere in your code\n",
        "Xfeatures = 10\n",
        "\n",
        "# Input\n",
        "X = tf.keras.layers.Input(shape=(Xfeatures,), dtype=tf.float32)\n",
        "\n",
        "# Output\n",
        "Y = tf.keras.layers.Input(shape=(1,), dtype=tf.float32)\n",
        "\n",
        "# Example usage in a model\n",
        "hidden = tf.keras.layers.Dense(64, activation='relu')(X)\n",
        "output = tf.keras.layers.Dense(1, activation='sigmoid')(hidden)\n",
        "\n",
        "model = tf.keras.models.Model(inputs=X, outputs=output)\n",
        "\n",
        "# Compile the model\n",
        "model.compile(optimizer='adam',\n",
        "              loss='binary_crossentropy',\n",
        "              metrics=['accuracy'])\n",
        "\n",
        "# Example usage: fit the model with some data\n",
        "# model.fit(X_train, y_train, epochs=10, batch_size=32, validation_data=(X_val, y_val))\n"
      ],
      "metadata": {
        "id": "yGVGyinXtVNF"
      },
      "execution_count": 15,
      "outputs": []
    },
    {
      "cell_type": "code",
      "source": [
        "\n",
        "\n",
        "# Define the number of neurons in each layer\n",
        "Xfeatures = 10\n",
        "L1 = 3\n",
        "L2 = 3\n",
        "L3 = 3\n",
        "Yfeatures = 1\n",
        "\n",
        "# Layer 1 weights\n",
        "W_fc1 = tf.Variable(tf.random.uniform([Xfeatures, L1]))\n",
        "b_fc1 = tf.Variable(tf.constant(0.1, shape=[L1]))\n",
        "\n",
        "# Layer 2 weights\n",
        "W_fc2 = tf.Variable(tf.random.uniform([L1, L2]))\n",
        "b_fc2 = tf.Variable(tf.constant(0.1, shape=[L2]))\n",
        "\n",
        "# Layer 3 weights\n",
        "W_fc3 = tf.Variable(tf.random.uniform([L2, L3]))\n",
        "b_fc3 = tf.Variable(tf.constant(0.1, shape=[L3]))\n",
        "\n",
        "# Output layer weights\n",
        "W_fO = tf.Variable(tf.random.uniform([L3, Yfeatures]))\n",
        "b_fO = tf.Variable(tf.constant(0.1, shape=[Yfeatures]))\n"
      ],
      "metadata": {
        "id": "1ImX1cL8tjMO"
      },
      "execution_count": 17,
      "outputs": []
    },
    {
      "cell_type": "code",
      "source": [
        "#Layer 1\n",
        "matmul_fc1=tf.matmul(X, W_fc1) + b_fc1\n",
        "h_fc1 = tf.nn.relu(matmul_fc1)   #ReLU activation\n",
        "#Layer 2\n",
        "matmul_fc2=tf.matmul(h_fc1, W_fc2) + b_fc2\n",
        "h_fc2 = tf.nn.relu(matmul_fc2)   #ReLU activation\n",
        "#Layer 3\n",
        "matmul_fc3=tf.matmul(h_fc2, W_fc3) + b_fc3\n",
        "h_fc3 = tf.nn.relu(matmul_fc3)   #ReLU activation\n",
        "#Output layer\n",
        "matmul_fc4=tf.matmul(h_fc3, W_fO) + b_fO\n",
        "output_layer = matmul_fc4  #linear activation"
      ],
      "metadata": {
        "colab": {
          "base_uri": "https://localhost:8080/"
        },
        "id": "gpBTNXhBtnc3",
        "outputId": "e81dc4cc-8b47-4301-dfee-28c6464c4bb3"
      },
      "execution_count": 18,
      "outputs": [
        {
          "output_type": "stream",
          "name": "stderr",
          "text": [
            "WARNING:tensorflow:The following Variables were used in a Lambda layer's call (tf.linalg.matmul), but are not present in its tracked objects:   <tf.Variable 'Variable:0' shape=(10, 3) dtype=float32>. This is a strong indication that the Lambda layer should be rewritten as a subclassed Layer.\n",
            "WARNING:tensorflow:The following Variables were used in a Lambda layer's call (tf.__operators__.add), but are not present in its tracked objects:   <tf.Variable 'Variable:0' shape=(3,) dtype=float32>. This is a strong indication that the Lambda layer should be rewritten as a subclassed Layer.\n",
            "WARNING:tensorflow:The following Variables were used in a Lambda layer's call (tf.linalg.matmul_1), but are not present in its tracked objects:   <tf.Variable 'Variable:0' shape=(3, 3) dtype=float32>. This is a strong indication that the Lambda layer should be rewritten as a subclassed Layer.\n",
            "WARNING:tensorflow:The following Variables were used in a Lambda layer's call (tf.__operators__.add_1), but are not present in its tracked objects:   <tf.Variable 'Variable:0' shape=(3,) dtype=float32>. This is a strong indication that the Lambda layer should be rewritten as a subclassed Layer.\n",
            "WARNING:tensorflow:The following Variables were used in a Lambda layer's call (tf.linalg.matmul_2), but are not present in its tracked objects:   <tf.Variable 'Variable:0' shape=(3, 3) dtype=float32>. This is a strong indication that the Lambda layer should be rewritten as a subclassed Layer.\n",
            "WARNING:tensorflow:The following Variables were used in a Lambda layer's call (tf.__operators__.add_2), but are not present in its tracked objects:   <tf.Variable 'Variable:0' shape=(3,) dtype=float32>. This is a strong indication that the Lambda layer should be rewritten as a subclassed Layer.\n",
            "WARNING:tensorflow:The following Variables were used in a Lambda layer's call (tf.linalg.matmul_3), but are not present in its tracked objects:   <tf.Variable 'Variable:0' shape=(3, 1) dtype=float32>. This is a strong indication that the Lambda layer should be rewritten as a subclassed Layer.\n",
            "WARNING:tensorflow:The following Variables were used in a Lambda layer's call (tf.__operators__.add_3), but are not present in its tracked objects:   <tf.Variable 'Variable:0' shape=(1,) dtype=float32>. This is a strong indication that the Lambda layer should be rewritten as a subclassed Layer.\n"
          ]
        }
      ]
    },
    {
      "cell_type": "code",
      "source": [
        "import tensorflow as tf\n",
        "\n",
        "# Assuming Xfeatures and Yfeatures are defined somewhere in your code\n",
        "Xfeatures = 10\n",
        "Yfeatures = 1\n",
        "\n",
        "# Example network architecture using Functional API\n",
        "inputs = tf.keras.Input(shape=(Xfeatures,), dtype=tf.float32)\n",
        "hidden = tf.keras.layers.Dense(10, activation='relu')(inputs)\n",
        "output_layer = tf.keras.layers.Dense(Yfeatures, activation=None)(hidden)\n",
        "\n",
        "# Define the model\n",
        "model = tf.keras.Model(inputs=inputs, outputs=output_layer)\n",
        "\n",
        "# Compile the model\n",
        "model.compile(optimizer='adam',\n",
        "              loss='mean_squared_error',\n",
        "              metrics=['mse'])\n",
        "\n",
        "# Example usage: creating dummy data for demonstration\n",
        "import numpy as np\n",
        "X_train = np.random.randn(100, Xfeatures)\n",
        "Y_train = np.random.randn(100, Yfeatures)\n",
        "\n",
        "# Fit the model\n",
        "model.fit(X_train, Y_train, epochs=10, batch_size=32)\n"
      ],
      "metadata": {
        "colab": {
          "base_uri": "https://localhost:8080/"
        },
        "id": "xDcjpRJXuDQM",
        "outputId": "6232c278-31b9-46a9-b5fb-f064c2f77909"
      },
      "execution_count": 21,
      "outputs": [
        {
          "output_type": "stream",
          "name": "stdout",
          "text": [
            "Epoch 1/10\n",
            "4/4 [==============================] - 1s 6ms/step - loss: 1.7219 - mse: 1.7219\n",
            "Epoch 2/10\n",
            "4/4 [==============================] - 0s 4ms/step - loss: 1.6756 - mse: 1.6756\n",
            "Epoch 3/10\n",
            "4/4 [==============================] - 0s 4ms/step - loss: 1.6431 - mse: 1.6431\n",
            "Epoch 4/10\n",
            "4/4 [==============================] - 0s 5ms/step - loss: 1.6102 - mse: 1.6102\n",
            "Epoch 5/10\n",
            "4/4 [==============================] - 0s 4ms/step - loss: 1.5821 - mse: 1.5821\n",
            "Epoch 6/10\n",
            "4/4 [==============================] - 0s 4ms/step - loss: 1.5521 - mse: 1.5521\n",
            "Epoch 7/10\n",
            "4/4 [==============================] - 0s 5ms/step - loss: 1.5271 - mse: 1.5271\n",
            "Epoch 8/10\n",
            "4/4 [==============================] - 0s 4ms/step - loss: 1.5012 - mse: 1.5012\n",
            "Epoch 9/10\n",
            "4/4 [==============================] - 0s 4ms/step - loss: 1.4747 - mse: 1.4747\n",
            "Epoch 10/10\n",
            "4/4 [==============================] - 0s 4ms/step - loss: 1.4499 - mse: 1.4499\n"
          ]
        },
        {
          "output_type": "execute_result",
          "data": {
            "text/plain": [
              "<keras.src.callbacks.History at 0x78ea5f1b08e0>"
            ]
          },
          "metadata": {},
          "execution_count": 21
        }
      ]
    },
    {
      "cell_type": "code",
      "source": [
        "import tensorflow as tf\n",
        "import numpy as np\n",
        "\n",
        "# Assuming InputX1train, InputY1train, InputX1v, InputY1v are defined somewhere in your code\n",
        "InputX1train = np.random.randn(100, Xfeatures)  # Example data\n",
        "InputY1train = np.random.randn(100, Yfeatures)  # Example data\n",
        "InputX1v = np.random.randn(50, Xfeatures)  # Example validation data\n",
        "InputY1v = np.random.randn(50, Yfeatures)  # Example validation data\n",
        "\n",
        "# Define your model architecture and compile it\n",
        "inputs = tf.keras.Input(shape=(Xfeatures,))\n",
        "hidden = tf.keras.layers.Dense(10, activation='relu')(inputs)\n",
        "output_layer = tf.keras.layers.Dense(Yfeatures, activation=None)(hidden)\n",
        "\n",
        "model = tf.keras.Model(inputs=inputs, outputs=output_layer)\n",
        "model.compile(optimizer='adam', loss='mean_squared_error')\n",
        "\n",
        "# Train the model\n",
        "history = model.fit(InputX1train, InputY1train, epochs=10, validation_data=(InputX1v, InputY1v))\n",
        "\n",
        "# Save the model\n",
        "model.save(\"/tmp/earthquake_model.h5\")\n",
        "\n",
        "# Evaluate the model on training and validation data\n",
        "train_loss = model.evaluate(InputX1train, InputY1train)\n",
        "val_loss = model.evaluate(InputX1v, InputY1v)\n",
        "\n",
        "print(\"Final training loss:\", train_loss)\n",
        "print(\"Final validation loss:\", val_loss)\n"
      ],
      "metadata": {
        "colab": {
          "base_uri": "https://localhost:8080/"
        },
        "id": "ngQc5pQDuVBh",
        "outputId": "cb1ea4a0-d399-4e6d-97a9-d4e23e167afc"
      },
      "execution_count": 23,
      "outputs": [
        {
          "output_type": "stream",
          "name": "stdout",
          "text": [
            "Epoch 1/10\n",
            "4/4 [==============================] - 1s 74ms/step - loss: 1.4748 - val_loss: 1.1945\n",
            "Epoch 2/10\n",
            "4/4 [==============================] - 0s 17ms/step - loss: 1.4435 - val_loss: 1.1879\n",
            "Epoch 3/10\n",
            "4/4 [==============================] - 0s 18ms/step - loss: 1.4185 - val_loss: 1.1809\n",
            "Epoch 4/10\n",
            "4/4 [==============================] - 0s 15ms/step - loss: 1.3981 - val_loss: 1.1741\n",
            "Epoch 5/10\n",
            "4/4 [==============================] - 0s 21ms/step - loss: 1.3802 - val_loss: 1.1672\n",
            "Epoch 6/10\n",
            "4/4 [==============================] - 0s 13ms/step - loss: 1.3640 - val_loss: 1.1615\n",
            "Epoch 7/10\n",
            "4/4 [==============================] - 0s 19ms/step - loss: 1.3457 - val_loss: 1.1561\n",
            "Epoch 8/10\n",
            "4/4 [==============================] - 0s 18ms/step - loss: 1.3305 - val_loss: 1.1495\n",
            "Epoch 9/10\n",
            "4/4 [==============================] - 0s 19ms/step - loss: 1.3118 - val_loss: 1.1430\n",
            "Epoch 10/10\n",
            "4/4 [==============================] - 0s 17ms/step - loss: 1.2951 - val_loss: 1.1374\n",
            "4/4 [==============================] - 0s 4ms/step - loss: 1.2846\n"
          ]
        },
        {
          "output_type": "stream",
          "name": "stderr",
          "text": [
            "/usr/local/lib/python3.10/dist-packages/keras/src/engine/training.py:3103: UserWarning: You are saving your model as an HDF5 file via `model.save()`. This file format is considered legacy. We recommend using instead the native Keras format, e.g. `model.save('my_model.keras')`.\n",
            "  saving_api.save_model(\n"
          ]
        },
        {
          "output_type": "stream",
          "name": "stdout",
          "text": [
            "2/2 [==============================] - 0s 10ms/step - loss: 1.1374\n",
            "Final training loss: 1.2846214771270752\n",
            "Final validation loss: 1.1374173164367676\n"
          ]
        }
      ]
    },
    {
      "cell_type": "code",
      "source": [
        "# Assuming you have defined and compiled your model previously\n",
        "model = Sequential()\n",
        "model.add(Dense(16, activation='relu', input_shape=(10,)))\n",
        "model.add(Dense(16, activation='relu'))\n",
        "model.add(Dense(1, activation='linear'))  # Adjust activation and units as per your problem\n",
        "\n",
        "# Compile the model\n",
        "model.compile(optimizer='adam', loss='mean_squared_error', metrics=['mse'])\n",
        "\n",
        "# Train the model\n",
        "history = model.fit(InputX1train, InputY1train, batch_size=10, epochs=20, verbose=1, validation_data=(InputX1v, InputY1v))\n"
      ],
      "metadata": {
        "colab": {
          "base_uri": "https://localhost:8080/"
        },
        "id": "6yJzLaOzxDVO",
        "outputId": "6b6caeee-5846-42aa-cc2d-dd321f2393c9"
      },
      "execution_count": 32,
      "outputs": [
        {
          "output_type": "stream",
          "name": "stdout",
          "text": [
            "Epoch 1/20\n",
            "10/10 [==============================] - 1s 23ms/step - loss: 1.4642 - mse: 1.4642 - val_loss: 1.3899 - val_mse: 1.3899\n",
            "Epoch 2/20\n",
            "10/10 [==============================] - 0s 7ms/step - loss: 1.2852 - mse: 1.2852 - val_loss: 1.2489 - val_mse: 1.2489\n",
            "Epoch 3/20\n",
            "10/10 [==============================] - 0s 7ms/step - loss: 1.1697 - mse: 1.1697 - val_loss: 1.1573 - val_mse: 1.1573\n",
            "Epoch 4/20\n",
            "10/10 [==============================] - 0s 7ms/step - loss: 1.0941 - mse: 1.0941 - val_loss: 1.0958 - val_mse: 1.0958\n",
            "Epoch 5/20\n",
            "10/10 [==============================] - 0s 7ms/step - loss: 1.0479 - mse: 1.0479 - val_loss: 1.0564 - val_mse: 1.0564\n",
            "Epoch 6/20\n",
            "10/10 [==============================] - 0s 7ms/step - loss: 1.0215 - mse: 1.0215 - val_loss: 1.0314 - val_mse: 1.0314\n",
            "Epoch 7/20\n",
            "10/10 [==============================] - 0s 11ms/step - loss: 0.9982 - mse: 0.9982 - val_loss: 1.0190 - val_mse: 1.0190\n",
            "Epoch 8/20\n",
            "10/10 [==============================] - 0s 11ms/step - loss: 0.9841 - mse: 0.9841 - val_loss: 1.0078 - val_mse: 1.0078\n",
            "Epoch 9/20\n",
            "10/10 [==============================] - 0s 16ms/step - loss: 0.9748 - mse: 0.9748 - val_loss: 0.9986 - val_mse: 0.9986\n",
            "Epoch 10/20\n",
            "10/10 [==============================] - 0s 15ms/step - loss: 0.9614 - mse: 0.9614 - val_loss: 0.9939 - val_mse: 0.9939\n",
            "Epoch 11/20\n",
            "10/10 [==============================] - 0s 10ms/step - loss: 0.9544 - mse: 0.9544 - val_loss: 0.9874 - val_mse: 0.9874\n",
            "Epoch 12/20\n",
            "10/10 [==============================] - 0s 14ms/step - loss: 0.9418 - mse: 0.9418 - val_loss: 0.9850 - val_mse: 0.9850\n",
            "Epoch 13/20\n",
            "10/10 [==============================] - 0s 11ms/step - loss: 0.9332 - mse: 0.9332 - val_loss: 0.9836 - val_mse: 0.9836\n",
            "Epoch 14/20\n",
            "10/10 [==============================] - 0s 6ms/step - loss: 0.9252 - mse: 0.9252 - val_loss: 0.9821 - val_mse: 0.9821\n",
            "Epoch 15/20\n",
            "10/10 [==============================] - 0s 6ms/step - loss: 0.9167 - mse: 0.9167 - val_loss: 0.9802 - val_mse: 0.9802\n",
            "Epoch 16/20\n",
            "10/10 [==============================] - 0s 6ms/step - loss: 0.9093 - mse: 0.9093 - val_loss: 0.9805 - val_mse: 0.9805\n",
            "Epoch 17/20\n",
            "10/10 [==============================] - 0s 6ms/step - loss: 0.9023 - mse: 0.9023 - val_loss: 0.9789 - val_mse: 0.9789\n",
            "Epoch 18/20\n",
            "10/10 [==============================] - 0s 7ms/step - loss: 0.8945 - mse: 0.8945 - val_loss: 0.9791 - val_mse: 0.9791\n",
            "Epoch 19/20\n",
            "10/10 [==============================] - 0s 6ms/step - loss: 0.8878 - mse: 0.8878 - val_loss: 0.9785 - val_mse: 0.9785\n",
            "Epoch 20/20\n",
            "10/10 [==============================] - 0s 7ms/step - loss: 0.8823 - mse: 0.8823 - val_loss: 0.9780 - val_mse: 0.9780\n"
          ]
        }
      ]
    },
    {
      "cell_type": "code",
      "source": [
        "[test_loss, test_acc] = model.evaluate(InputX1v, InputY1v)\n",
        "\n",
        "# Print evaluation results\n",
        "print(\"Evaluation result on Test Data : Loss = {}, accuracy = {}\".format(test_loss, test_acc))"
      ],
      "metadata": {
        "colab": {
          "base_uri": "https://localhost:8080/"
        },
        "id": "lcNr0v9yxR7G",
        "outputId": "265dca6b-9829-4602-ef60-79a125741cdc"
      },
      "execution_count": 33,
      "outputs": [
        {
          "output_type": "stream",
          "name": "stdout",
          "text": [
            "2/2 [==============================] - 0s 9ms/step - loss: 0.9780 - mse: 0.9780\n",
            "Evaluation result on Test Data : Loss = 0.9779589176177979, accuracy = 0.9779589176177979\n"
          ]
        }
      ]
    }
  ]
}